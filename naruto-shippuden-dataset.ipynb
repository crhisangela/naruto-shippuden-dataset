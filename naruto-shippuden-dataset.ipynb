{
 "cells": [
  {
   "cell_type": "markdown",
   "metadata": {},
   "source": [
    "Dataset Naruto Shipuden"
   ]
  },
  {
   "cell_type": "code",
   "execution_count": 1,
   "metadata": {},
   "outputs": [],
   "source": [
    "# Importando bibliotecas\n",
    "\n",
    "import pandas as pd\n",
    "import matplotlib.pyplot as plt\n",
    "import seaborn as sns\n",
    "from sklearn.metrics.pairwise import cosine_similarity\n"
   ]
  },
  {
   "cell_type": "code",
   "execution_count": 2,
   "metadata": {},
   "outputs": [
    {
     "data": {
      "text/html": [
       "<div>\n",
       "<style scoped>\n",
       "    .dataframe tbody tr th:only-of-type {\n",
       "        vertical-align: middle;\n",
       "    }\n",
       "\n",
       "    .dataframe tbody tr th {\n",
       "        vertical-align: top;\n",
       "    }\n",
       "\n",
       "    .dataframe thead th {\n",
       "        text-align: right;\n",
       "    }\n",
       "</style>\n",
       "<table border=\"1\" class=\"dataframe\">\n",
       "  <thead>\n",
       "    <tr style=\"text-align: right;\">\n",
       "      <th></th>\n",
       "      <th>Unnamed: 0</th>\n",
       "      <th>Num_episode</th>\n",
       "      <th>Title</th>\n",
       "      <th>Type</th>\n",
       "      <th>Year_launch</th>\n",
       "      <th>Rate</th>\n",
       "      <th>Votes</th>\n",
       "      <th>Saga</th>\n",
       "      <th>Airdate</th>\n",
       "    </tr>\n",
       "  </thead>\n",
       "  <tbody>\n",
       "    <tr>\n",
       "      <th>0</th>\n",
       "      <td>1</td>\n",
       "      <td>1</td>\n",
       "      <td>Homecoming</td>\n",
       "      <td>Mixed Canon/Filler</td>\n",
       "      <td>2007</td>\n",
       "      <td>8.2</td>\n",
       "      <td>728</td>\n",
       "      <td>s1 Kazekage Rescue</td>\n",
       "      <td>2007-02-15</td>\n",
       "    </tr>\n",
       "    <tr>\n",
       "      <th>1</th>\n",
       "      <td>2</td>\n",
       "      <td>2</td>\n",
       "      <td>The Akatsuki Makes Its Move</td>\n",
       "      <td>Mixed Canon/Filler</td>\n",
       "      <td>2007</td>\n",
       "      <td>8.0</td>\n",
       "      <td>575</td>\n",
       "      <td>s1 Kazekage Rescue</td>\n",
       "      <td>2007-02-15</td>\n",
       "    </tr>\n",
       "    <tr>\n",
       "      <th>2</th>\n",
       "      <td>3</td>\n",
       "      <td>3</td>\n",
       "      <td>The Results of Training</td>\n",
       "      <td>Mixed Canon/Filler</td>\n",
       "      <td>2007</td>\n",
       "      <td>8.0</td>\n",
       "      <td>508</td>\n",
       "      <td>s1 Kazekage Rescue</td>\n",
       "      <td>2007-02-22</td>\n",
       "    </tr>\n",
       "    <tr>\n",
       "      <th>3</th>\n",
       "      <td>4</td>\n",
       "      <td>4</td>\n",
       "      <td>The Jinchuriki of the Sand</td>\n",
       "      <td>Mixed Canon/Filler</td>\n",
       "      <td>2007</td>\n",
       "      <td>8.2</td>\n",
       "      <td>517</td>\n",
       "      <td>s1 Kazekage Rescue</td>\n",
       "      <td>2007-03-01</td>\n",
       "    </tr>\n",
       "    <tr>\n",
       "      <th>4</th>\n",
       "      <td>5</td>\n",
       "      <td>5</td>\n",
       "      <td>The Kazekage Stands Tall</td>\n",
       "      <td>Mixed Canon/Filler</td>\n",
       "      <td>2007</td>\n",
       "      <td>8.2</td>\n",
       "      <td>486</td>\n",
       "      <td>s1 Kazekage Rescue</td>\n",
       "      <td>2007-03-15</td>\n",
       "    </tr>\n",
       "  </tbody>\n",
       "</table>\n",
       "</div>"
      ],
      "text/plain": [
       "   Unnamed: 0  Num_episode                        Title                Type  \\\n",
       "0           1            1                   Homecoming  Mixed Canon/Filler   \n",
       "1           2            2  The Akatsuki Makes Its Move  Mixed Canon/Filler   \n",
       "2           3            3      The Results of Training  Mixed Canon/Filler   \n",
       "3           4            4   The Jinchuriki of the Sand  Mixed Canon/Filler   \n",
       "4           5            5     The Kazekage Stands Tall  Mixed Canon/Filler   \n",
       "\n",
       "   Year_launch  Rate  Votes                Saga     Airdate  \n",
       "0         2007   8.2    728  s1 Kazekage Rescue  2007-02-15  \n",
       "1         2007   8.0    575  s1 Kazekage Rescue  2007-02-15  \n",
       "2         2007   8.0    508  s1 Kazekage Rescue  2007-02-22  \n",
       "3         2007   8.2    517  s1 Kazekage Rescue  2007-03-01  \n",
       "4         2007   8.2    486  s1 Kazekage Rescue  2007-03-15  "
      ]
     },
     "execution_count": 2,
     "metadata": {},
     "output_type": "execute_result"
    }
   ],
   "source": [
    "df = pd.read_csv('naruto.csv', encoding='latin-1')\n",
    "df.head(5)"
   ]
  },
  {
   "cell_type": "markdown",
   "metadata": {},
   "source": [
    "Entendendo a tabela (dataframe):\n",
    "- Num_espisode = número do episódio\n",
    "- Title = Título do episódio\n",
    "- Type = Tipo do episódio (filler, cannon, etc)\n",
    "- Year_launch = Ano de lançamento do episódio\n",
    "- Rate = Nota média daquele respectivo episódio\n",
    "- Votes = Votos para o respectivo episódio\n",
    "- Saga = Temporada\n",
    "- Airdate = Data exata da exibição do episódio\n",
    "- Unnamed: 0 = Coluna sem definição que será descartada"
   ]
  },
  {
   "cell_type": "markdown",
   "metadata": {},
   "source": [
    "## Análise exploratória básica"
   ]
  },
  {
   "cell_type": "code",
   "execution_count": 3,
   "metadata": {},
   "outputs": [
    {
     "name": "stdout",
     "output_type": "stream",
     "text": [
      "<class 'pandas.core.frame.DataFrame'>\n",
      "RangeIndex: 500 entries, 0 to 499\n",
      "Data columns (total 8 columns):\n",
      " #   Column       Non-Null Count  Dtype  \n",
      "---  ------       --------------  -----  \n",
      " 0   Num_episode  500 non-null    int64  \n",
      " 1   Title        500 non-null    object \n",
      " 2   Type         500 non-null    object \n",
      " 3   Year_launch  500 non-null    int64  \n",
      " 4   Rate         500 non-null    float64\n",
      " 5   Votes        500 non-null    int64  \n",
      " 6   Saga         500 non-null    object \n",
      " 7   Airdate      500 non-null    object \n",
      "dtypes: float64(1), int64(3), object(4)\n",
      "memory usage: 31.4+ KB\n"
     ]
    }
   ],
   "source": [
    "# Excluindo a primeira coluna sem informação relevante\n",
    "df.drop('Unnamed: 0', axis=1, inplace = True)\n",
    "\n",
    "# Realizando descrição de dados para entender o tipo de valores inputados\n",
    "df.info()\n"
   ]
  },
  {
   "cell_type": "code",
   "execution_count": 4,
   "metadata": {},
   "outputs": [
    {
     "data": {
      "text/html": [
       "<div>\n",
       "<style scoped>\n",
       "    .dataframe tbody tr th:only-of-type {\n",
       "        vertical-align: middle;\n",
       "    }\n",
       "\n",
       "    .dataframe tbody tr th {\n",
       "        vertical-align: top;\n",
       "    }\n",
       "\n",
       "    .dataframe thead th {\n",
       "        text-align: right;\n",
       "    }\n",
       "</style>\n",
       "<table border=\"1\" class=\"dataframe\">\n",
       "  <thead>\n",
       "    <tr style=\"text-align: right;\">\n",
       "      <th></th>\n",
       "      <th>Num_episode</th>\n",
       "      <th>Year_launch</th>\n",
       "      <th>Rate</th>\n",
       "      <th>Votes</th>\n",
       "    </tr>\n",
       "  </thead>\n",
       "  <tbody>\n",
       "    <tr>\n",
       "      <th>count</th>\n",
       "      <td>500.000000</td>\n",
       "      <td>500.000000</td>\n",
       "      <td>500.000000</td>\n",
       "      <td>500.000000</td>\n",
       "    </tr>\n",
       "    <tr>\n",
       "      <th>mean</th>\n",
       "      <td>250.500000</td>\n",
       "      <td>2011.668000</td>\n",
       "      <td>7.360600</td>\n",
       "      <td>369.586000</td>\n",
       "    </tr>\n",
       "    <tr>\n",
       "      <th>std</th>\n",
       "      <td>144.481833</td>\n",
       "      <td>2.899412</td>\n",
       "      <td>1.056836</td>\n",
       "      <td>271.742906</td>\n",
       "    </tr>\n",
       "    <tr>\n",
       "      <th>min</th>\n",
       "      <td>1.000000</td>\n",
       "      <td>2007.000000</td>\n",
       "      <td>4.200000</td>\n",
       "      <td>163.000000</td>\n",
       "    </tr>\n",
       "    <tr>\n",
       "      <th>25%</th>\n",
       "      <td>125.750000</td>\n",
       "      <td>2009.000000</td>\n",
       "      <td>6.500000</td>\n",
       "      <td>216.750000</td>\n",
       "    </tr>\n",
       "    <tr>\n",
       "      <th>50%</th>\n",
       "      <td>250.500000</td>\n",
       "      <td>2012.000000</td>\n",
       "      <td>7.500000</td>\n",
       "      <td>294.500000</td>\n",
       "    </tr>\n",
       "    <tr>\n",
       "      <th>75%</th>\n",
       "      <td>375.250000</td>\n",
       "      <td>2014.000000</td>\n",
       "      <td>8.200000</td>\n",
       "      <td>395.500000</td>\n",
       "    </tr>\n",
       "    <tr>\n",
       "      <th>max</th>\n",
       "      <td>500.000000</td>\n",
       "      <td>2017.000000</td>\n",
       "      <td>9.500000</td>\n",
       "      <td>2780.000000</td>\n",
       "    </tr>\n",
       "  </tbody>\n",
       "</table>\n",
       "</div>"
      ],
      "text/plain": [
       "       Num_episode  Year_launch        Rate        Votes\n",
       "count   500.000000   500.000000  500.000000   500.000000\n",
       "mean    250.500000  2011.668000    7.360600   369.586000\n",
       "std     144.481833     2.899412    1.056836   271.742906\n",
       "min       1.000000  2007.000000    4.200000   163.000000\n",
       "25%     125.750000  2009.000000    6.500000   216.750000\n",
       "50%     250.500000  2012.000000    7.500000   294.500000\n",
       "75%     375.250000  2014.000000    8.200000   395.500000\n",
       "max     500.000000  2017.000000    9.500000  2780.000000"
      ]
     },
     "execution_count": 4,
     "metadata": {},
     "output_type": "execute_result"
    }
   ],
   "source": [
    "# Resumo estatístico\n",
    "df.describe()"
   ]
  },
  {
   "cell_type": "code",
   "execution_count": 5,
   "metadata": {},
   "outputs": [
    {
     "data": {
      "text/plain": [
       "Num_episode    0\n",
       "Title          0\n",
       "Type           0\n",
       "Year_launch    0\n",
       "Rate           0\n",
       "Votes          0\n",
       "Saga           0\n",
       "Airdate        0\n",
       "dtype: int64"
      ]
     },
     "execution_count": 5,
     "metadata": {},
     "output_type": "execute_result"
    }
   ],
   "source": [
    "# Verificando quantas linhas são com valores nulos (podem interferir nas análises)\n",
    "null = df.isna().sum()\n",
    "null"
   ]
  },
  {
   "cell_type": "code",
   "execution_count": 6,
   "metadata": {},
   "outputs": [
    {
     "data": {
      "text/plain": [
       "0"
      ]
     },
     "execution_count": 6,
     "metadata": {},
     "output_type": "execute_result"
    }
   ],
   "source": [
    "# Verificando quantas linhas são duplicadas\n",
    "duplicated = df.duplicated().sum()\n",
    "duplicated"
   ]
  },
  {
   "cell_type": "markdown",
   "metadata": {},
   "source": [
    "## Distribuição dos tipos de episódios"
   ]
  },
  {
   "cell_type": "code",
   "execution_count": 7,
   "metadata": {},
   "outputs": [
    {
     "data": {
      "image/png": "[encoded data removed]",
      "text/plain": [
       "<Figure size 576x432 with 1 Axes>"
      ]
     },
     "metadata": {
      "needs_background": "light"
     },
     "output_type": "display_data"
    }
   ],
   "source": [
    "plt.figure(figsize=(8, 6))\n",
    "sns.countplot(data=df, x='Type')\n",
    "plt.title('Distribuição dos tipos de episódios')\n",
    "plt.xlabel('Tipo de Episódio')\n",
    "plt.ylabel('Contagem')\n",
    "plt.show()"
   ]
  },
  {
   "cell_type": "markdown",
   "metadata": {},
   "source": [
    "## Relação entre Avaliação e Número de Votos"
   ]
  },
  {
   "cell_type": "code",
   "execution_count": 8,
   "metadata": {},
   "outputs": [
    {
     "data": {
      "image/png": "[encoded data removed]",
      "text/plain": [
       "<Figure size 576x432 with 1 Axes>"
      ]
     },
     "metadata": {
      "needs_background": "light"
     },
     "output_type": "display_data"
    }
   ],
   "source": [
    "plt.figure(figsize=(8, 6))\n",
    "sns.scatterplot(data=df, x='Rate', y='Votes', hue='Type')\n",
    "plt.title('Relação entre Avaliação e Número de Votos')\n",
    "plt.xlabel('Avaliação')\n",
    "plt.ylabel('Número de Votos')\n",
    "plt.legend()\n",
    "plt.show()"
   ]
  },
  {
   "cell_type": "code",
   "execution_count": 9,
   "metadata": {},
   "outputs": [
    {
     "name": "stdout",
     "output_type": "stream",
     "text": [
      "Type\n",
      "Manga Canon           8.116239\n",
      "Mixed Canon/Filler    7.868254\n",
      "Filler                6.332020\n",
      "Name: Rate, dtype: float64\n"
     ]
    }
   ],
   "source": [
    "# Calculando a média de avaliação por tipo de episódio\n",
    "average_rate_by_type = df.groupby('Type')['Rate'].mean().sort_values(ascending=False)\n",
    "\n",
    "# Imprimindo a média de avaliação por tipo de episódio\n",
    "print(average_rate_by_type)"
   ]
  },
  {
   "cell_type": "markdown",
   "metadata": {},
   "source": [
    "Observações: A quantidade de espisódios Fillers e Canon são quase iguais, porém além dos eps Canon obter mais votos, também possuem a maior taxa de avaliação (8,1)."
   ]
  },
  {
   "cell_type": "code",
   "execution_count": 10,
   "metadata": {},
   "outputs": [],
   "source": [
    "# Criando uma matriz de avaliações (usuários x episódios)\n",
    "ratings = df.pivot_table(index='Title', columns='Num_episode', values='Rate')"
   ]
  },
  {
   "cell_type": "markdown",
   "metadata": {},
   "source": [
    "## Modelo de recomendação simples\n",
    "\n",
    "Passos:\n",
    "1. Agrupar os episódios por tipo e calcular a média das avaliações (Rate) para cada tipo.\n",
    "2. Classificar os tipos de episódios em ordem decrescente com base nas avaliações médias.\n",
    "3. Recomendar os episódios do tipo com as melhores avaliações médias."
   ]
  },
  {
   "cell_type": "code",
   "execution_count": 11,
   "metadata": {},
   "outputs": [],
   "source": [
    "# 1 e 2 = feito anteriormente, salvo o resultado na variavel: average_rate_by_type\n"
   ]
  },
  {
   "cell_type": "code",
   "execution_count": 12,
   "metadata": {},
   "outputs": [
    {
     "name": "stdout",
     "output_type": "stream",
     "text": [
      "Episódios de filler mais recomendados:\n",
      "357    Kakashi: Shadow of the ANBU Black Ops  Coup D...\n",
      "467                                        The Successor\n",
      "347                                     The New Akatsuki\n",
      "Name: Title, dtype: object\n"
     ]
    }
   ],
   "source": [
    "# 3\n",
    "\n",
    "# Função para recomendar episódios por tipo\n",
    "def recommend_episodes_by_type(df, type, num_recommendations=3):\n",
    "    recommended_episodes = df[df['Type'] == type].sort_values(by='Rate', ascending=False).head(num_recommendations)\n",
    "    return recommended_episodes\n",
    "\n",
    "recommended_episodes = recommend_episodes_by_type(df, 'Filler', num_recommendations=3)['Title']\n",
    "print(\"Episódios de filler mais recomendados:\")\n",
    "print(recommended_episodes)"
   ]
  },
  {
   "cell_type": "code",
   "execution_count": 14,
   "metadata": {},
   "outputs": [
    {
     "name": "stdout",
     "output_type": "stream",
     "text": [
      "Episódios de Canon mais recomendados:\n",
      "476                  Naruto and Sasuke\n",
      "132    The Tale of Jiraiya the Gallant\n",
      "475                   The Final Battle\n",
      "Name: Title, dtype: object\n"
     ]
    }
   ],
   "source": [
    "recommended_episodes = recommend_episodes_by_type(df, 'Manga Canon', num_recommendations=3)['Title']\n",
    "print(\"Episódios de Canon mais recomendados:\")\n",
    "print(recommended_episodes)"
   ]
  }
 ],
 "metadata": {
  "kernelspec": {
   "display_name": "Python 3",
   "language": "python",
   "name": "python3"
  },
  "language_info": {
   "codemirror_mode": {
    "name": "ipython",
    "version": 3
   },
   "file_extension": ".py",
   "mimetype": "text/x-python",
   "name": "python",
   "nbconvert_exporter": "python",
   "pygments_lexer": "ipython3",
   "version": "3.10.1"
  },
  "orig_nbformat": 4
 },
 "nbformat": 4,
 "nbformat_minor": 2
}
